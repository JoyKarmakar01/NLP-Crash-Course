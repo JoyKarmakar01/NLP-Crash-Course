{
 "cells": [
  {
   "cell_type": "code",
   "execution_count": 1,
   "id": "83104580",
   "metadata": {},
   "outputs": [],
   "source": [
    "# Defining String\n",
    "text = \"I'm working as a Data Scientist in the U.S and earning $140,000.\""
   ]
  },
  {
   "cell_type": "code",
   "execution_count": 2,
   "id": "6ccc8c92",
   "metadata": {},
   "outputs": [
    {
     "name": "stdout",
     "output_type": "stream",
     "text": [
      "[\"I'm\", 'working', 'as', 'a', 'Data', 'Scientist', 'in', 'the', 'U.S', 'and', 'earning', '$140,000.']\n"
     ]
    }
   ],
   "source": [
    "# Whitespace Tokenizer\n",
    "print(text.split())"
   ]
  },
  {
   "cell_type": "code",
   "execution_count": 3,
   "id": "0c3768b6",
   "metadata": {},
   "outputs": [],
   "source": [
    "import spacy"
   ]
  },
  {
   "cell_type": "markdown",
   "id": "c64c2ac2",
   "metadata": {},
   "source": [
    "# Models in spaCY for English Language as of release 2.3.1:\n",
    "    > en_core_web_sm: 11MB\n",
    "    > en_core_web_md: 48MB\n",
    "    > en_core_web_lg: 746MB"
   ]
  },
  {
   "cell_type": "raw",
   "id": "494951c8",
   "metadata": {},
   "source": [
    "!python -m spacy download en_core_web_sm"
   ]
  },
  {
   "cell_type": "code",
   "execution_count": 4,
   "id": "66060095",
   "metadata": {},
   "outputs": [],
   "source": [
    "# Loading the model\n",
    "nlp = spacy.load('en_core_web_sm')"
   ]
  },
  {
   "cell_type": "code",
   "execution_count": 5,
   "id": "7f707696",
   "metadata": {},
   "outputs": [],
   "source": [
    "# Creating Doc Object\n",
    "doc = nlp(text)"
   ]
  },
  {
   "cell_type": "code",
   "execution_count": 6,
   "id": "2a911ab1",
   "metadata": {},
   "outputs": [
    {
     "data": {
      "text/plain": [
       "I'm working as a Data Scientist in the U.S and earning $140,000."
      ]
     },
     "execution_count": 6,
     "metadata": {},
     "output_type": "execute_result"
    }
   ],
   "source": [
    "doc"
   ]
  },
  {
   "cell_type": "code",
   "execution_count": 7,
   "id": "dbd644a7",
   "metadata": {},
   "outputs": [
    {
     "data": {
      "text/plain": [
       "spacy.tokens.doc.Doc"
      ]
     },
     "execution_count": 7,
     "metadata": {},
     "output_type": "execute_result"
    }
   ],
   "source": [
    "type(doc)"
   ]
  },
  {
   "cell_type": "code",
   "execution_count": 9,
   "id": "310e904a",
   "metadata": {},
   "outputs": [
    {
     "name": "stdout",
     "output_type": "stream",
     "text": [
      "[I, 'm, working, as, a, Data, Scientist, in, the, U.S, and, earning, $, 140,000, .]\n"
     ]
    }
   ],
   "source": [
    "# spaCy Tokenizer\n",
    "print([token for token in doc])"
   ]
  },
  {
   "cell_type": "code",
   "execution_count": 10,
   "id": "eda6a3cc",
   "metadata": {},
   "outputs": [
    {
     "data": {
      "text/plain": [
       "[spacy.tokens.token.Token,\n",
       " spacy.tokens.token.Token,\n",
       " spacy.tokens.token.Token,\n",
       " spacy.tokens.token.Token,\n",
       " spacy.tokens.token.Token,\n",
       " spacy.tokens.token.Token,\n",
       " spacy.tokens.token.Token,\n",
       " spacy.tokens.token.Token,\n",
       " spacy.tokens.token.Token,\n",
       " spacy.tokens.token.Token,\n",
       " spacy.tokens.token.Token,\n",
       " spacy.tokens.token.Token,\n",
       " spacy.tokens.token.Token,\n",
       " spacy.tokens.token.Token,\n",
       " spacy.tokens.token.Token]"
      ]
     },
     "execution_count": 10,
     "metadata": {},
     "output_type": "execute_result"
    }
   ],
   "source": [
    "# Type of Token\n",
    "\n",
    "[type(token) for token in doc]"
   ]
  },
  {
   "cell_type": "code",
   "execution_count": 11,
   "id": "72cfc00c",
   "metadata": {},
   "outputs": [
    {
     "name": "stdout",
     "output_type": "stream",
     "text": [
      "['I', \"'m\", 'working', 'as', 'a', 'Data', 'Scientist', 'in', 'the', 'U.S', 'and', 'earning', '$', '140,000', '.']\n"
     ]
    }
   ],
   "source": [
    "# Tokens as string\n",
    "\n",
    "print([token.text for token in doc])"
   ]
  },
  {
   "cell_type": "code",
   "execution_count": 16,
   "id": "e057c7a7",
   "metadata": {},
   "outputs": [
    {
     "name": "stdout",
     "output_type": "stream",
     "text": [
      "[\"I'm\", 'working', 'as', 'a', 'Data', 'Scientist', 'in', 'the', 'U.S', 'and', 'earning', '$140,000.']\n",
      "['I', \"'m\", 'working', 'as', 'a', 'Data', 'Scientist', 'in', 'the', 'U.S', 'and', 'earning', '$', '140,000', '.']\n"
     ]
    }
   ],
   "source": [
    "# Comparing Whitespace and spaCy Tokenizer\n",
    "\n",
    "# Whitespace Tokenizer\n",
    "print(text.split())\n",
    "\n",
    "# spaCy Tokenizer\n",
    "print([token.text for token in doc])"
   ]
  },
  {
   "cell_type": "code",
   "execution_count": 15,
   "id": "6bc8497e",
   "metadata": {},
   "outputs": [
    {
     "name": "stdout",
     "output_type": "stream",
     "text": [
      "12\n",
      "15\n"
     ]
    }
   ],
   "source": [
    "# No. of Tokens in Whitespace Tokenizer\n",
    "print(len(text.split()))\n",
    "\n",
    "# No. of Tokens in spaCy's Tokenizer\n",
    "print(len(doc))"
   ]
  },
  {
   "cell_type": "code",
   "execution_count": 18,
   "id": "948bbce9",
   "metadata": {},
   "outputs": [
    {
     "name": "stdout",
     "output_type": "stream",
     "text": [
      "['My', 'phone', 'has', 'a', '20%', 'battery', 'left.']\n",
      "['My', 'phone', 'has', 'a', '20', '%', 'battery', 'left', '.']\n"
     ]
    }
   ],
   "source": [
    "text = \"My phone has a 20% battery left.\"\n",
    "\n",
    "# Whitespace Tokenizer\n",
    "print(text.split())\n",
    "\n",
    "# spaCy Tokenizer\n",
    "print([token.text for token in nlp(text)])"
   ]
  },
  {
   "cell_type": "code",
   "execution_count": 21,
   "id": "1348ece8",
   "metadata": {},
   "outputs": [
    {
     "name": "stdout",
     "output_type": "stream",
     "text": [
      "['I', 'ran', '10km', 'today.']\n",
      "['I', 'ran', '10', 'km', 'today', '.']\n"
     ]
    }
   ],
   "source": [
    "text = \"I ran 10km today.\"\n",
    "\n",
    "# Whitespace Tokenzier\n",
    "print(text.split())\n",
    "\n",
    "# spaCy Tokenizer\n",
    "print([token.text for token in nlp(text)])\n"
   ]
  },
  {
   "cell_type": "code",
   "execution_count": 22,
   "id": "8dce9178",
   "metadata": {},
   "outputs": [
    {
     "name": "stdout",
     "output_type": "stream",
     "text": [
      "['I', 'know', 'HTML,', 'CSS,', 'Javascript,', 'C++,', 'and', 'Node.js.']\n",
      "['I', 'know', 'HTML', ',', 'CSS', ',', 'Javascript', ',', 'C++', ',', 'and', 'Node.js', '.']\n"
     ]
    }
   ],
   "source": [
    "text = 'I know HTML, CSS, Javascript, C++, and Node.js.'\n",
    "\n",
    "\n",
    "# Whitespace Tokenzier\n",
    "print(text.split())\n",
    "\n",
    "# spaCy Tokenizer\n",
    "print([token.text for token in nlp(text)])"
   ]
  },
  {
   "cell_type": "markdown",
   "id": "b0b574a7",
   "metadata": {},
   "source": [
    "# Exercise Tokenization \n",
    " \n",
    "Text= ”Just in a few years, natural language processing has evolved into something so powerful and impactful, which no one could have imagined.”\n",
    "\n",
    "Perform the following tasks on the above text:\n",
    "\n",
    "Task 1: ”Tokenize it using whitespace tokenizer.”\n",
    "\n",
    "Task 2: “Tokenize it using spacy’s tokenizer.”"
   ]
  },
  {
   "cell_type": "code",
   "execution_count": 23,
   "id": "c6af88cf",
   "metadata": {},
   "outputs": [],
   "source": [
    "text = \"Just in a few years, natural language processing has evolved into something so powerful and impactful, which no one could have imagined.\""
   ]
  },
  {
   "cell_type": "code",
   "execution_count": 25,
   "id": "fd192bb0",
   "metadata": {},
   "outputs": [
    {
     "name": "stdout",
     "output_type": "stream",
     "text": [
      "['Just', 'in', 'a', 'few', 'years,', 'natural', 'language', 'processing', 'has', 'evolved', 'into', 'something', 'so', 'powerful', 'and', 'impactful,', 'which', 'no', 'one', 'could', 'have', 'imagined.']\n",
      "\n",
      "['Just', 'in', 'a', 'few', 'years', ',', 'natural', 'language', 'processing', 'has', 'evolved', 'into', 'something', 'so', 'powerful', 'and', 'impactful', ',', 'which', 'no', 'one', 'could', 'have', 'imagined', '.']\n"
     ]
    }
   ],
   "source": [
    "# Whitespace Tokenizer\n",
    "print(text.split())\n",
    "\n",
    "print()\n",
    "\n",
    "# spaCy Tokenizer\n",
    "print([token.text for token in nlp(text)])"
   ]
  },
  {
   "cell_type": "code",
   "execution_count": null,
   "id": "9220a117",
   "metadata": {},
   "outputs": [],
   "source": []
  }
 ],
 "metadata": {
  "kernelspec": {
   "display_name": "Python 3 (ipykernel)",
   "language": "python",
   "name": "python3"
  },
  "language_info": {
   "codemirror_mode": {
    "name": "ipython",
    "version": 3
   },
   "file_extension": ".py",
   "mimetype": "text/x-python",
   "name": "python",
   "nbconvert_exporter": "python",
   "pygments_lexer": "ipython3",
   "version": "3.9.12"
  }
 },
 "nbformat": 4,
 "nbformat_minor": 5
}
