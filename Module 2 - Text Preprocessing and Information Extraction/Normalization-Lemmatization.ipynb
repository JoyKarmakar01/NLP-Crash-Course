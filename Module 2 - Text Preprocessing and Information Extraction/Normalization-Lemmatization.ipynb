{
 "cells": [
  {
   "cell_type": "markdown",
   "id": "25cbd68a",
   "metadata": {},
   "source": [
    "### Lemmatization in SpaCy"
   ]
  },
  {
   "cell_type": "code",
   "execution_count": 8,
   "id": "c476317b",
   "metadata": {},
   "outputs": [],
   "source": [
    "text = \"The sky is clear and the stars are twinkling\""
   ]
  },
  {
   "cell_type": "code",
   "execution_count": 2,
   "id": "f1d88067",
   "metadata": {},
   "outputs": [],
   "source": [
    "import spacy"
   ]
  },
  {
   "cell_type": "code",
   "execution_count": 9,
   "id": "7078cb2d",
   "metadata": {},
   "outputs": [],
   "source": [
    "nlp = spacy.load('en_core_web_sm')"
   ]
  },
  {
   "cell_type": "code",
   "execution_count": 10,
   "id": "f6c70e45",
   "metadata": {},
   "outputs": [],
   "source": [
    "doc = nlp(text)"
   ]
  },
  {
   "cell_type": "code",
   "execution_count": 11,
   "id": "77a259f9",
   "metadata": {},
   "outputs": [
    {
     "data": {
      "text/plain": [
       "[('The', 'the'),\n",
       " ('sky', 'sky'),\n",
       " ('is', 'be'),\n",
       " ('clear', 'clear'),\n",
       " ('and', 'and'),\n",
       " ('the', 'the'),\n",
       " ('stars', 'star'),\n",
       " ('are', 'be'),\n",
       " ('twinkling', 'twinkle')]"
      ]
     },
     "execution_count": 11,
     "metadata": {},
     "output_type": "execute_result"
    }
   ],
   "source": [
    "[(token.text, token.lemma_) for token in doc ]"
   ]
  },
  {
   "cell_type": "code",
   "execution_count": 12,
   "id": "bde5f452",
   "metadata": {},
   "outputs": [
    {
     "data": {
      "text/plain": [
       "[('The', 'the'),\n",
       " ('moon', 'moon'),\n",
       " ('looks', 'look'),\n",
       " ('beautiful', 'beautiful'),\n",
       " ('at', 'at'),\n",
       " ('night', 'night'),\n",
       " ('.', '.'),\n",
       " ('It', 'it'),\n",
       " (\"'s\", 'be'),\n",
       " ('hard', 'hard'),\n",
       " ('to', 'to'),\n",
       " ('resist', 'resist'),\n",
       " ('its', 'its'),\n",
       " ('beauty', 'beauty'),\n",
       " ('.', '.')]"
      ]
     },
     "execution_count": 12,
     "metadata": {},
     "output_type": "execute_result"
    }
   ],
   "source": [
    "text = \"The moon looks beautiful at night. It's hard to resist its beauty.\"\n",
    "\n",
    "doc = nlp(text)\n",
    "\n",
    "[(token.text, token.lemma_) for token in doc ]"
   ]
  },
  {
   "cell_type": "markdown",
   "id": "a8e3c0e2",
   "metadata": {},
   "source": [
    "### Exercises Normalization\n",
    "For this exercise, you are provided with a txt file named ”switzerland.txt”\n",
    "\n",
    "Click here to download the txt file.\n",
    "\n",
    "Read that file in jupyter notebook and lemmatize the text."
   ]
  },
  {
   "cell_type": "code",
   "execution_count": 13,
   "id": "d77464de",
   "metadata": {
    "scrolled": true
   },
   "outputs": [
    {
     "data": {
      "text/plain": [
       "[('Switzerland', 'Switzerland'),\n",
       " (',', ','),\n",
       " ('officially', 'officially'),\n",
       " ('the', 'the'),\n",
       " ('Swiss', 'Swiss'),\n",
       " ('Confederation', 'Confederation'),\n",
       " (',', ','),\n",
       " ('is', 'be'),\n",
       " ('a', 'a'),\n",
       " ('country', 'country'),\n",
       " ('situated', 'situate'),\n",
       " ('in', 'in'),\n",
       " ('the', 'the'),\n",
       " ('confluence', 'confluence'),\n",
       " ('of', 'of'),\n",
       " ('Western', 'western'),\n",
       " (',', ','),\n",
       " ('Central', 'central'),\n",
       " (',', ','),\n",
       " ('and', 'and'),\n",
       " ('Southern', 'Southern'),\n",
       " ('Europe', 'Europe'),\n",
       " ('.', '.'),\n",
       " ('It', 'it'),\n",
       " ('is', 'be'),\n",
       " ('a', 'a'),\n",
       " ('federal', 'federal'),\n",
       " ('republic', 'republic'),\n",
       " ('composed', 'compose'),\n",
       " ('of', 'of'),\n",
       " ('26', '26'),\n",
       " ('cantons', 'canton'),\n",
       " (',', ','),\n",
       " ('with', 'with'),\n",
       " ('federal', 'federal'),\n",
       " ('authorities', 'authority'),\n",
       " ('based', 'base'),\n",
       " ('in', 'in'),\n",
       " ('Bern', 'Bern'),\n",
       " ('.', '.'),\n",
       " ('Switzerland', 'Switzerland'),\n",
       " ('is', 'be'),\n",
       " ('a', 'a'),\n",
       " ('landlocked', 'landlocked'),\n",
       " ('country', 'country'),\n",
       " ('bordered', 'border'),\n",
       " ('by', 'by'),\n",
       " ('Italy', 'Italy'),\n",
       " ('to', 'to'),\n",
       " ('the', 'the'),\n",
       " ('south', 'south'),\n",
       " (',', ','),\n",
       " ('France', 'France'),\n",
       " ('to', 'to'),\n",
       " ('the', 'the'),\n",
       " ('west', 'west'),\n",
       " (',', ','),\n",
       " ('Germany', 'Germany'),\n",
       " ('to', 'to'),\n",
       " ('the', 'the'),\n",
       " ('north', 'north'),\n",
       " (',', ','),\n",
       " ('and', 'and'),\n",
       " ('Austria', 'Austria'),\n",
       " ('and', 'and'),\n",
       " ('Liechtenstein', 'Liechtenstein'),\n",
       " ('to', 'to'),\n",
       " ('the', 'the'),\n",
       " ('east', 'east'),\n",
       " ('.', '.'),\n",
       " ('It', 'it'),\n",
       " ('is', 'be'),\n",
       " ('geographically', 'geographically'),\n",
       " ('divided', 'divide'),\n",
       " ('among', 'among'),\n",
       " ('the', 'the'),\n",
       " ('Swiss', 'Swiss'),\n",
       " ('Plateau', 'Plateau'),\n",
       " (',', ','),\n",
       " ('the', 'the'),\n",
       " ('Alps', 'Alps'),\n",
       " (',', ','),\n",
       " ('and', 'and'),\n",
       " ('the', 'the'),\n",
       " ('Jura', 'Jura'),\n",
       " (',', ','),\n",
       " ('spanning', 'span'),\n",
       " ('a', 'a'),\n",
       " ('total', 'total'),\n",
       " ('area', 'area'),\n",
       " ('of', 'of'),\n",
       " ('41,285', '41,285'),\n",
       " ('km2', 'km2'),\n",
       " ('(', '('),\n",
       " ('15,940', '15,940'),\n",
       " ('sq', 'sq'),\n",
       " ('mi', 'mi'),\n",
       " (')', ')'),\n",
       " (',', ','),\n",
       " ('and', 'and'),\n",
       " ('land', 'land'),\n",
       " ('area', 'area'),\n",
       " ('of', 'of'),\n",
       " ('39,997', '39,997'),\n",
       " ('km2', 'km2'),\n",
       " ('(', '('),\n",
       " ('15,443', '15,443'),\n",
       " ('sq', 'sq'),\n",
       " ('mi', 'mi'),\n",
       " (')', ')'),\n",
       " ('.', '.'),\n",
       " ('While', 'while'),\n",
       " ('the', 'the'),\n",
       " ('Alps', 'Alps'),\n",
       " ('occupy', 'occupy'),\n",
       " ('the', 'the'),\n",
       " ('greater', 'great'),\n",
       " ('part', 'part'),\n",
       " ('of', 'of'),\n",
       " ('the', 'the'),\n",
       " ('territory', 'territory'),\n",
       " (',', ','),\n",
       " ('the', 'the'),\n",
       " ('Swiss', 'swiss'),\n",
       " ('population', 'population'),\n",
       " ('of', 'of'),\n",
       " ('approximately', 'approximately'),\n",
       " ('8.5', '8.5'),\n",
       " ('million', 'million'),\n",
       " ('is', 'be'),\n",
       " ('concentrated', 'concentrate'),\n",
       " ('mostly', 'mostly'),\n",
       " ('on', 'on'),\n",
       " ('the', 'the'),\n",
       " ('plateau', 'plateau'),\n",
       " (',', ','),\n",
       " ('where', 'where'),\n",
       " ('the', 'the'),\n",
       " ('largest', 'large'),\n",
       " ('cities', 'city'),\n",
       " ('and', 'and'),\n",
       " ('economic', 'economic'),\n",
       " ('centres', 'centre'),\n",
       " ('are', 'be'),\n",
       " ('located', 'locate'),\n",
       " (',', ','),\n",
       " ('among', 'among'),\n",
       " ('them', 'they'),\n",
       " ('ZÃ¼rich', 'zã¼rich'),\n",
       " (',', ','),\n",
       " ('Geneva', 'Geneva'),\n",
       " ('and', 'and'),\n",
       " ('Basel', 'Basel'),\n",
       " (',', ','),\n",
       " ('where', 'where'),\n",
       " ('multiple', 'multiple'),\n",
       " ('international', 'international'),\n",
       " ('organisations', 'organisation'),\n",
       " ('are', 'be'),\n",
       " ('domiciled', 'domicile'),\n",
       " ('(', '('),\n",
       " ('such', 'such'),\n",
       " ('as', 'as'),\n",
       " ('FIFA', 'FIFA'),\n",
       " (',', ','),\n",
       " ('the', 'the'),\n",
       " ('UN', 'UN'),\n",
       " (\"'s\", \"'s\"),\n",
       " ('second', 'second'),\n",
       " ('-', '-'),\n",
       " ('largest', 'large'),\n",
       " ('Office', 'office'),\n",
       " (',', ','),\n",
       " ('and', 'and'),\n",
       " ('the', 'the'),\n",
       " ('Bank', 'Bank'),\n",
       " ('for', 'for'),\n",
       " ('International', 'International'),\n",
       " ('Settlements', 'Settlements'),\n",
       " (')', ')'),\n",
       " ('and', 'and'),\n",
       " ('where', 'where'),\n",
       " ('the', 'the'),\n",
       " ('main', 'main'),\n",
       " ('international', 'international'),\n",
       " ('airports', 'airport'),\n",
       " ('of', 'of'),\n",
       " ('Switzerland', 'Switzerland'),\n",
       " ('are', 'be'),\n",
       " ('.', '.'),\n",
       " ('\\n', '\\n')]"
      ]
     },
     "execution_count": 13,
     "metadata": {},
     "output_type": "execute_result"
    }
   ],
   "source": [
    "# Read the file\n",
    "with open('switzerland.txt', 'r') as file:\n",
    "    text = file.read()\n",
    "    \n",
    "doc = nlp(text)\n",
    "\n",
    "[(token.text, token.lemma_) for token in doc ]"
   ]
  },
  {
   "cell_type": "code",
   "execution_count": null,
   "id": "639cba69",
   "metadata": {},
   "outputs": [],
   "source": []
  }
 ],
 "metadata": {
  "kernelspec": {
   "display_name": "Python 3 (ipykernel)",
   "language": "python",
   "name": "python3"
  },
  "language_info": {
   "codemirror_mode": {
    "name": "ipython",
    "version": 3
   },
   "file_extension": ".py",
   "mimetype": "text/x-python",
   "name": "python",
   "nbconvert_exporter": "python",
   "pygments_lexer": "ipython3",
   "version": "3.9.12"
  }
 },
 "nbformat": 4,
 "nbformat_minor": 5
}
