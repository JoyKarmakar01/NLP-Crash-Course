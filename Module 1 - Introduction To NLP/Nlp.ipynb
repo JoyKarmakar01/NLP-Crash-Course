{
 "cells": [
  {
   "cell_type": "markdown",
   "id": "f8f4b873",
   "metadata": {},
   "source": [
    "# Stop Words"
   ]
  },
  {
   "cell_type": "code",
   "execution_count": 1,
   "id": "8d4e1c19",
   "metadata": {},
   "outputs": [],
   "source": [
    "var = \" Natural language processing (NLP) is an interdisciplinary subfield of computer science and information retrieval. It is primarily concerned with giving computers the ability to support and manipulate human language. It involves processing natural language datasets, such as text corpora or speech corpora, using either rule-based or probabilistic (i.e. statistical and, most recently, neural network-based) machine learning approaches. \""
   ]
  },
  {
   "cell_type": "code",
   "execution_count": 19,
   "id": "ff295f87",
   "metadata": {},
   "outputs": [
    {
     "data": {
      "text/plain": [
       "' Natural language processing (NLP) is an interdisciplinary subfield of computer science and information retrieval. It is primarily concerned with giving computers the ability to support and manipulate human language. It involves processing natural language datasets, such as text corpora or speech corpora, using either rule-based or probabilistic (i.e. statistical and, most recently, neural network-based) machine learning approaches. '"
      ]
     },
     "execution_count": 19,
     "metadata": {},
     "output_type": "execute_result"
    }
   ],
   "source": [
    "var"
   ]
  },
  {
   "cell_type": "raw",
   "id": "df31a0d2",
   "metadata": {},
   "source": [
    "pip install nltk"
   ]
  },
  {
   "cell_type": "code",
   "execution_count": 13,
   "id": "db024e67",
   "metadata": {},
   "outputs": [],
   "source": [
    "from nltk.tokenize import word_tokenize"
   ]
  },
  {
   "cell_type": "code",
   "execution_count": 21,
   "id": "7c255fcc",
   "metadata": {},
   "outputs": [],
   "source": [
    "var_new = word_tokenize(var)"
   ]
  },
  {
   "cell_type": "code",
   "execution_count": 22,
   "id": "a5a376f2",
   "metadata": {},
   "outputs": [
    {
     "data": {
      "text/plain": [
       "69"
      ]
     },
     "execution_count": 22,
     "metadata": {},
     "output_type": "execute_result"
    }
   ],
   "source": [
    "len(var_new)"
   ]
  },
  {
   "cell_type": "code",
   "execution_count": 6,
   "id": "5fd6d3cf",
   "metadata": {},
   "outputs": [],
   "source": [
    "from nltk.corpus import stopwords\n",
    "from string import punctuation"
   ]
  },
  {
   "cell_type": "code",
   "execution_count": 7,
   "id": "d91338b5",
   "metadata": {},
   "outputs": [],
   "source": [
    "stop = stopwords.words(\"english\")\n"
   ]
  },
  {
   "cell_type": "code",
   "execution_count": 10,
   "id": "d751e6c7",
   "metadata": {},
   "outputs": [],
   "source": [
    "stop_word = list (punctuation) + stop"
   ]
  },
  {
   "cell_type": "code",
   "execution_count": 18,
   "id": "c8eaa856",
   "metadata": {},
   "outputs": [
    {
     "name": "stdout",
     "output_type": "stream",
     "text": [
      "Natural\n",
      "language\n",
      "processing\n",
      "NLP\n",
      "interdisciplinary\n",
      "subfield\n",
      "computer\n",
      "science\n",
      "information\n",
      "retrieval\n",
      "It\n",
      "primarily\n",
      "concerned\n",
      "giving\n",
      "computers\n",
      "ability\n",
      "support\n",
      "manipulate\n",
      "human\n",
      "language\n",
      "It\n",
      "involves\n",
      "processing\n",
      "natural\n",
      "language\n",
      "datasets\n",
      "text\n",
      "corpora\n",
      "speech\n",
      "corpora\n",
      "using\n",
      "either\n",
      "rule-based\n",
      "probabilistic\n",
      "i.e\n",
      "statistical\n",
      "recently\n",
      "neural\n",
      "network-based\n",
      "machine\n",
      "learning\n",
      "approaches\n",
      "42\n"
     ]
    }
   ],
   "source": [
    "\n",
    "count = 0\n",
    "for i in var_new:\n",
    "    if i not in stop_word:\n",
    "        count += 1\n",
    "        print(i)\n",
    "print(count)"
   ]
  },
  {
   "cell_type": "markdown",
   "id": "56dfc4cc",
   "metadata": {},
   "source": [
    "# Stemming\n",
    "\n",
    "#### Various Stemming Algorithms \n",
    "\n",
    "\n",
    "###### Stem() - 1. Porterstemmer, 2.Regexpstemmer, 3.Snowballstemmer, 4.Lancasterstemmer"
   ]
  },
  {
   "cell_type": "code",
   "execution_count": 23,
   "id": "991876ce",
   "metadata": {},
   "outputs": [],
   "source": [
    "from nltk.stem import LancasterStemmer, RegexpStemmer, PorterStemmer, SnowballStemmer"
   ]
  },
  {
   "cell_type": "code",
   "execution_count": 24,
   "id": "990c74e5",
   "metadata": {},
   "outputs": [],
   "source": [
    "l = LancasterStemmer()\n",
    "r = RegexpStemmer('ing')\n",
    "p = PorterStemmer()\n",
    "s = SnowballStemmer('english')\n"
   ]
  },
  {
   "cell_type": "code",
   "execution_count": 31,
   "id": "79a54665",
   "metadata": {},
   "outputs": [
    {
     "data": {
      "text/plain": [
       "'chang'"
      ]
     },
     "execution_count": 31,
     "metadata": {},
     "output_type": "execute_result"
    }
   ],
   "source": [
    "l.stem('changed')"
   ]
  },
  {
   "cell_type": "code",
   "execution_count": 28,
   "id": "61e0982f",
   "metadata": {},
   "outputs": [
    {
     "data": {
      "text/plain": [
       "'changed'"
      ]
     },
     "execution_count": 28,
     "metadata": {},
     "output_type": "execute_result"
    }
   ],
   "source": [
    "r.stem('changed')"
   ]
  },
  {
   "cell_type": "code",
   "execution_count": 30,
   "id": "33afe169",
   "metadata": {},
   "outputs": [
    {
     "data": {
      "text/plain": [
       "'chang'"
      ]
     },
     "execution_count": 30,
     "metadata": {},
     "output_type": "execute_result"
    }
   ],
   "source": [
    "p.stem('changed')"
   ]
  },
  {
   "cell_type": "code",
   "execution_count": 29,
   "id": "5eb9a058",
   "metadata": {},
   "outputs": [
    {
     "data": {
      "text/plain": [
       "'chang'"
      ]
     },
     "execution_count": 29,
     "metadata": {},
     "output_type": "execute_result"
    }
   ],
   "source": [
    "s.stem('changed')"
   ]
  },
  {
   "cell_type": "markdown",
   "id": "422f5c91",
   "metadata": {},
   "source": [
    "# Lemmatization\n"
   ]
  },
  {
   "attachments": {
    "img.png": {
     "image/png": "[encoded data removed]"
    }
   },
   "cell_type": "markdown",
   "id": "8702b500",
   "metadata": {},
   "source": [
    "![img.png](attachment:img.png){height = \"50px\"}"
   ]
  },
  {
   "cell_type": "code",
   "execution_count": 36,
   "id": "0f50757f",
   "metadata": {},
   "outputs": [],
   "source": [
    "from nltk.stem import WordNetLemmatizer\n"
   ]
  },
  {
   "cell_type": "code",
   "execution_count": 37,
   "id": "0f01bf50",
   "metadata": {},
   "outputs": [],
   "source": [
    "wl = WordNetLemmatizer()"
   ]
  },
  {
   "cell_type": "code",
   "execution_count": 47,
   "id": "65aba3c0",
   "metadata": {},
   "outputs": [
    {
     "data": {
      "text/plain": [
       "'hell'"
      ]
     },
     "execution_count": 47,
     "metadata": {},
     "output_type": "execute_result"
    }
   ],
   "source": [
    "wl.lemmatize(\"hell\")"
   ]
  },
  {
   "cell_type": "code",
   "execution_count": 40,
   "id": "04f5b9cc",
   "metadata": {},
   "outputs": [
    {
     "data": {
      "text/plain": [
       "'changing'"
      ]
     },
     "execution_count": 40,
     "metadata": {},
     "output_type": "execute_result"
    }
   ],
   "source": [
    "wl.lemmatize(\"changing\")"
   ]
  },
  {
   "cell_type": "code",
   "execution_count": 43,
   "id": "4cf797d5",
   "metadata": {},
   "outputs": [
    {
     "data": {
      "text/plain": [
       "'way'"
      ]
     },
     "execution_count": 43,
     "metadata": {},
     "output_type": "execute_result"
    }
   ],
   "source": [
    "wl.lemmatize(\"ways\")"
   ]
  },
  {
   "cell_type": "code",
   "execution_count": 44,
   "id": "282e4b6f",
   "metadata": {},
   "outputs": [
    {
     "data": {
      "text/plain": [
       "'noisy'"
      ]
     },
     "execution_count": 44,
     "metadata": {},
     "output_type": "execute_result"
    }
   ],
   "source": [
    "wl.lemmatize(\"noisy\")"
   ]
  },
  {
   "cell_type": "code",
   "execution_count": 46,
   "id": "68e4b307",
   "metadata": {},
   "outputs": [
    {
     "data": {
      "text/plain": [
       "'mouse'"
      ]
     },
     "execution_count": 46,
     "metadata": {},
     "output_type": "execute_result"
    }
   ],
   "source": [
    "wl.lemmatize('mice')"
   ]
  },
  {
   "cell_type": "code",
   "execution_count": 49,
   "id": "7470f48d",
   "metadata": {},
   "outputs": [
    {
     "data": {
      "text/plain": [
       "'mouse'"
      ]
     },
     "execution_count": 49,
     "metadata": {},
     "output_type": "execute_result"
    }
   ],
   "source": [
    "wl.lemmatize('mice')"
   ]
  },
  {
   "cell_type": "markdown",
   "id": "1a61a158",
   "metadata": {},
   "source": [
    "# N-Grams"
   ]
  },
  {
   "cell_type": "markdown",
   "id": "b6601ebf",
   "metadata": {},
   "source": [
    "1. n-grams are continous sequences of words or symbols or tokens in a document.In technical Terms\n",
    "2. They can be defined as the neighboring sequences of items in a document."
   ]
  },
  {
   "cell_type": "markdown",
   "id": "4747c06a",
   "metadata": {},
   "source": [
    "# N-gram Language Model"
   ]
  },
  {
   "cell_type": "raw",
   "id": "8c9da50b",
   "metadata": {},
   "source": [
    "After generalizing the above equation can be calculated as: \n",
    "                                                           1. Word Sequences\n",
    "                                                           2. Chain Rule of Probability\n",
    "                                                           3. Bigram Approximation\n",
    "                                                           4. N-gram Approximation"
   ]
  },
  {
   "cell_type": "code",
   "execution_count": 61,
   "id": "5135c622",
   "metadata": {},
   "outputs": [],
   "source": [
    "x = 'i am joy karmakar i am machine tech i am good men i am joy i am a tech'"
   ]
  },
  {
   "cell_type": "code",
   "execution_count": 62,
   "id": "3bbdfff9",
   "metadata": {},
   "outputs": [
    {
     "data": {
      "text/plain": [
       "'i am joy karmakar i am machine tech i am good men i am joy i am a tech'"
      ]
     },
     "execution_count": 62,
     "metadata": {},
     "output_type": "execute_result"
    }
   ],
   "source": [
    "x"
   ]
  },
  {
   "cell_type": "code",
   "execution_count": 63,
   "id": "7dc29197",
   "metadata": {},
   "outputs": [],
   "source": [
    "from nltk.tokenize import word_tokenize\n"
   ]
  },
  {
   "cell_type": "code",
   "execution_count": 64,
   "id": "9bb9166b",
   "metadata": {},
   "outputs": [
    {
     "data": {
      "text/plain": [
       "['i',\n",
       " 'am',\n",
       " 'joy',\n",
       " 'karmakar',\n",
       " 'i',\n",
       " 'am',\n",
       " 'machine',\n",
       " 'tech',\n",
       " 'i',\n",
       " 'am',\n",
       " 'good',\n",
       " 'men',\n",
       " 'i',\n",
       " 'am',\n",
       " 'joy',\n",
       " 'i',\n",
       " 'am',\n",
       " 'a',\n",
       " 'tech']"
      ]
     },
     "execution_count": 64,
     "metadata": {},
     "output_type": "execute_result"
    }
   ],
   "source": [
    "w = word_tokenize(x)\n",
    "w"
   ]
  },
  {
   "cell_type": "code",
   "execution_count": 65,
   "id": "1cc15036",
   "metadata": {},
   "outputs": [],
   "source": [
    "from nltk.collocations import BigramCollocationFinder, TrigramCollocationFinder, ngrams "
   ]
  },
  {
   "cell_type": "code",
   "execution_count": 78,
   "id": "992e7d41",
   "metadata": {},
   "outputs": [],
   "source": [
    "b = BigramCollocationFinder.from_words(w)\n",
    "t = TrigramCollocationFinder.from_words(w)\n",
    "n = ngrams(w,4)"
   ]
  },
  {
   "cell_type": "code",
   "execution_count": 73,
   "id": "4b2ee570",
   "metadata": {},
   "outputs": [
    {
     "data": {
      "text/plain": [
       "FreqDist({('i', 'am'): 5, ('am', 'joy'): 2, ('joy', 'karmakar'): 1, ('karmakar', 'i'): 1, ('am', 'machine'): 1, ('machine', 'tech'): 1, ('tech', 'i'): 1, ('am', 'good'): 1, ('good', 'men'): 1, ('men', 'i'): 1, ...})"
      ]
     },
     "execution_count": 73,
     "metadata": {},
     "output_type": "execute_result"
    }
   ],
   "source": [
    "b.ngram_fd"
   ]
  },
  {
   "cell_type": "code",
   "execution_count": 74,
   "id": "0f26c620",
   "metadata": {},
   "outputs": [
    {
     "data": {
      "text/plain": [
       "dict_keys([('i', 'am'), ('am', 'joy'), ('joy', 'karmakar'), ('karmakar', 'i'), ('am', 'machine'), ('machine', 'tech'), ('tech', 'i'), ('am', 'good'), ('good', 'men'), ('men', 'i'), ('joy', 'i'), ('am', 'a'), ('a', 'tech')])"
      ]
     },
     "execution_count": 74,
     "metadata": {},
     "output_type": "execute_result"
    }
   ],
   "source": [
    "b.ngram_fd.keys()"
   ]
  },
  {
   "cell_type": "code",
   "execution_count": 75,
   "id": "75d896c9",
   "metadata": {},
   "outputs": [
    {
     "data": {
      "text/plain": [
       "FreqDist({('i', 'am', 'joy'): 2, ('am', 'joy', 'karmakar'): 1, ('joy', 'karmakar', 'i'): 1, ('karmakar', 'i', 'am'): 1, ('i', 'am', 'machine'): 1, ('am', 'machine', 'tech'): 1, ('machine', 'tech', 'i'): 1, ('tech', 'i', 'am'): 1, ('i', 'am', 'good'): 1, ('am', 'good', 'men'): 1, ...})"
      ]
     },
     "execution_count": 75,
     "metadata": {},
     "output_type": "execute_result"
    }
   ],
   "source": [
    "t.ngram_fd"
   ]
  },
  {
   "cell_type": "code",
   "execution_count": 76,
   "id": "e61379c6",
   "metadata": {},
   "outputs": [
    {
     "data": {
      "text/plain": [
       "<zip at 0x25328690080>"
      ]
     },
     "execution_count": 76,
     "metadata": {},
     "output_type": "execute_result"
    }
   ],
   "source": [
    "n"
   ]
  },
  {
   "cell_type": "code",
   "execution_count": 79,
   "id": "88bd7e55",
   "metadata": {},
   "outputs": [
    {
     "name": "stdout",
     "output_type": "stream",
     "text": [
      "('i', 'am', 'joy', 'karmakar')\n",
      "('am', 'joy', 'karmakar', 'i')\n",
      "('joy', 'karmakar', 'i', 'am')\n",
      "('karmakar', 'i', 'am', 'machine')\n",
      "('i', 'am', 'machine', 'tech')\n",
      "('am', 'machine', 'tech', 'i')\n",
      "('machine', 'tech', 'i', 'am')\n",
      "('tech', 'i', 'am', 'good')\n",
      "('i', 'am', 'good', 'men')\n",
      "('am', 'good', 'men', 'i')\n",
      "('good', 'men', 'i', 'am')\n",
      "('men', 'i', 'am', 'joy')\n",
      "('i', 'am', 'joy', 'i')\n",
      "('am', 'joy', 'i', 'am')\n",
      "('joy', 'i', 'am', 'a')\n",
      "('i', 'am', 'a', 'tech')\n"
     ]
    }
   ],
   "source": [
    "for i in n:\n",
    "    print(i)"
   ]
  },
  {
   "cell_type": "code",
   "execution_count": 80,
   "id": "41e08a7a",
   "metadata": {},
   "outputs": [],
   "source": [
    "n = ngrams(w,2)"
   ]
  },
  {
   "cell_type": "code",
   "execution_count": 81,
   "id": "0bc9fb07",
   "metadata": {},
   "outputs": [
    {
     "name": "stdout",
     "output_type": "stream",
     "text": [
      "('i', 'am')\n",
      "('am', 'joy')\n",
      "('joy', 'karmakar')\n",
      "('karmakar', 'i')\n",
      "('i', 'am')\n",
      "('am', 'machine')\n",
      "('machine', 'tech')\n",
      "('tech', 'i')\n",
      "('i', 'am')\n",
      "('am', 'good')\n",
      "('good', 'men')\n",
      "('men', 'i')\n",
      "('i', 'am')\n",
      "('am', 'joy')\n",
      "('joy', 'i')\n",
      "('i', 'am')\n",
      "('am', 'a')\n",
      "('a', 'tech')\n"
     ]
    }
   ],
   "source": [
    "for i in n:\n",
    "    print(i)"
   ]
  },
  {
   "cell_type": "markdown",
   "id": "072d2a67",
   "metadata": {},
   "source": [
    "# Count Vectorizer"
   ]
  },
  {
   "cell_type": "code",
   "execution_count": 82,
   "id": "844fefea",
   "metadata": {},
   "outputs": [],
   "source": [
    "l = ['my name is joy', 'my name is robi']"
   ]
  },
  {
   "cell_type": "code",
   "execution_count": 83,
   "id": "054a6f96",
   "metadata": {},
   "outputs": [],
   "source": [
    "import pandas as pd"
   ]
  },
  {
   "cell_type": "code",
   "execution_count": 86,
   "id": "68dec29e",
   "metadata": {},
   "outputs": [],
   "source": [
    "df = pd.DataFrame({\"name\":l})"
   ]
  },
  {
   "cell_type": "code",
   "execution_count": 87,
   "id": "838db65c",
   "metadata": {},
   "outputs": [
    {
     "data": {
      "text/html": [
       "<div>\n",
       "<style scoped>\n",
       "    .dataframe tbody tr th:only-of-type {\n",
       "        vertical-align: middle;\n",
       "    }\n",
       "\n",
       "    .dataframe tbody tr th {\n",
       "        vertical-align: top;\n",
       "    }\n",
       "\n",
       "    .dataframe thead th {\n",
       "        text-align: right;\n",
       "    }\n",
       "</style>\n",
       "<table border=\"1\" class=\"dataframe\">\n",
       "  <thead>\n",
       "    <tr style=\"text-align: right;\">\n",
       "      <th></th>\n",
       "      <th>name</th>\n",
       "    </tr>\n",
       "  </thead>\n",
       "  <tbody>\n",
       "    <tr>\n",
       "      <th>0</th>\n",
       "      <td>my name is joy</td>\n",
       "    </tr>\n",
       "    <tr>\n",
       "      <th>1</th>\n",
       "      <td>my name is robi</td>\n",
       "    </tr>\n",
       "  </tbody>\n",
       "</table>\n",
       "</div>"
      ],
      "text/plain": [
       "              name\n",
       "0   my name is joy\n",
       "1  my name is robi"
      ]
     },
     "execution_count": 87,
     "metadata": {},
     "output_type": "execute_result"
    }
   ],
   "source": [
    "df"
   ]
  },
  {
   "cell_type": "code",
   "execution_count": 88,
   "id": "83c220d7",
   "metadata": {},
   "outputs": [],
   "source": [
    "from sklearn.feature_extraction.text import CountVectorizer"
   ]
  },
  {
   "cell_type": "code",
   "execution_count": 89,
   "id": "e6d4d367",
   "metadata": {},
   "outputs": [],
   "source": [
    "cv = CountVectorizer()"
   ]
  },
  {
   "cell_type": "code",
   "execution_count": 92,
   "id": "448e3ecb",
   "metadata": {},
   "outputs": [],
   "source": [
    "new_data = cv.fit_transform(df[\"name\"]).toarray()"
   ]
  },
  {
   "cell_type": "code",
   "execution_count": 93,
   "id": "90b74d6a",
   "metadata": {},
   "outputs": [
    {
     "data": {
      "text/plain": [
       "array([[1, 1, 1, 1, 0],\n",
       "       [1, 0, 1, 1, 1]], dtype=int64)"
      ]
     },
     "execution_count": 93,
     "metadata": {},
     "output_type": "execute_result"
    }
   ],
   "source": [
    "new_data"
   ]
  },
  {
   "cell_type": "code",
   "execution_count": 94,
   "id": "a04fc803",
   "metadata": {},
   "outputs": [
    {
     "data": {
      "text/plain": [
       "{'my': 2, 'name': 3, 'is': 0, 'joy': 1, 'robi': 4}"
      ]
     },
     "execution_count": 94,
     "metadata": {},
     "output_type": "execute_result"
    }
   ],
   "source": [
    "cv.vocabulary_"
   ]
  },
  {
   "cell_type": "markdown",
   "id": "d580ac58",
   "metadata": {},
   "source": [
    "# Word Sense Disambiguation"
   ]
  },
  {
   "cell_type": "markdown",
   "id": "31a2e2f6",
   "metadata": {},
   "source": [
    "### word sense disambiguation (WSD) is the problem of determining which \"sense\" (meaning) of a word is activated by the use of the word in a particular context, a process which appears to be largely unconscious in people."
   ]
  },
  {
   "cell_type": "code",
   "execution_count": 95,
   "id": "9f3477c0",
   "metadata": {},
   "outputs": [],
   "source": [
    "x = \"Sunrise (or sunup) is the moment when the upper rim of the Sun appears on the horizon in the morning\""
   ]
  },
  {
   "cell_type": "code",
   "execution_count": 96,
   "id": "276a182f",
   "metadata": {},
   "outputs": [],
   "source": [
    "from nltk.wsd import lesk\n",
    "from nltk.tokenize import word_tokenize\n"
   ]
  },
  {
   "cell_type": "code",
   "execution_count": 97,
   "id": "08ecad50",
   "metadata": {},
   "outputs": [],
   "source": [
    "l = lesk(word_tokenize(x), \"sun\")"
   ]
  },
  {
   "cell_type": "code",
   "execution_count": 98,
   "id": "b654263d",
   "metadata": {},
   "outputs": [
    {
     "data": {
      "text/plain": [
       "Synset('sun.n.01')"
      ]
     },
     "execution_count": 98,
     "metadata": {},
     "output_type": "execute_result"
    }
   ],
   "source": [
    "l"
   ]
  },
  {
   "cell_type": "code",
   "execution_count": 99,
   "id": "6455f1af",
   "metadata": {},
   "outputs": [
    {
     "data": {
      "text/plain": [
       "'the star that is the source of light and heat for the planets in the solar system'"
      ]
     },
     "execution_count": 99,
     "metadata": {},
     "output_type": "execute_result"
    }
   ],
   "source": [
    "l.definition()"
   ]
  },
  {
   "cell_type": "code",
   "execution_count": 100,
   "id": "d4123453",
   "metadata": {},
   "outputs": [],
   "source": [
    "y = \"A computer mouse (plural mice, also mouses)[nb 1] is a hand-held pointing device that detects two-dimensional motion relative to a surface.\""
   ]
  },
  {
   "cell_type": "code",
   "execution_count": 101,
   "id": "f7a8e884",
   "metadata": {},
   "outputs": [],
   "source": [
    "l = lesk(word_tokenize(y), \"mouse\")"
   ]
  },
  {
   "cell_type": "code",
   "execution_count": 102,
   "id": "00a73bf2",
   "metadata": {},
   "outputs": [
    {
     "data": {
      "text/plain": [
       "Synset('mouse.n.04')"
      ]
     },
     "execution_count": 102,
     "metadata": {},
     "output_type": "execute_result"
    }
   ],
   "source": [
    "l"
   ]
  },
  {
   "cell_type": "code",
   "execution_count": 103,
   "id": "6baabe59",
   "metadata": {},
   "outputs": [
    {
     "data": {
      "text/plain": [
       "'a hand-operated electronic device that controls the coordinates of a cursor on your computer screen as you move it around on a pad; on the bottom of the device is a ball that rolls on the surface of the pad'"
      ]
     },
     "execution_count": 103,
     "metadata": {},
     "output_type": "execute_result"
    }
   ],
   "source": [
    "l.definition()"
   ]
  },
  {
   "cell_type": "code",
   "execution_count": null,
   "id": "5b1faffb",
   "metadata": {},
   "outputs": [],
   "source": []
  }
 ],
 "metadata": {
  "kernelspec": {
   "display_name": "Python 3 (ipykernel)",
   "language": "python",
   "name": "python3"
  },
  "language_info": {
   "codemirror_mode": {
    "name": "ipython",
    "version": 3
   },
   "file_extension": ".py",
   "mimetype": "text/x-python",
   "name": "python",
   "nbconvert_exporter": "python",
   "pygments_lexer": "ipython3",
   "version": "3.9.12"
  }
 },
 "nbformat": 4,
 "nbformat_minor": 5
}
